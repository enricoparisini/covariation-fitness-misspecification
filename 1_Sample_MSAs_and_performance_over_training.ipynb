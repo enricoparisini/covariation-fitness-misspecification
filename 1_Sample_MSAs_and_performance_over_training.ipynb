{
 "cells": [
  {
   "cell_type": "code",
   "execution_count": null,
   "id": "38fcd8f1",
   "metadata": {},
   "outputs": [],
   "source": [
    "from correlations import *\n",
    "from utils.various_tools import *\n",
    "from utils.msa_manipulation import *\n",
    "from utils.sample_MSA_from_EVE_model import *\n",
    "from utils.plot_performance_over_training import *\n",
    "\n",
    "%load_ext autoreload\n",
    "%autoreload 2\n",
    "\n",
    "MSA_data_folder='./data/MSA'\n",
    "MSA_weights_location='./data/weights'\n",
    "VAE_checkpoint_location='./results/VAE_parameters/'\n",
    "correlations_location='./results/correlations'"
   ]
  },
  {
   "cell_type": "markdown",
   "id": "65ff43c8",
   "metadata": {},
   "source": [
    "In this notebook we sample MSAs from EVE checkpoints saved over training and check their performance in capturing 1-site marginals and 2-site covariation of the protein family."
   ]
  },
  {
   "cell_type": "markdown",
   "id": "eda9eca9",
   "metadata": {},
   "source": [
    "# Training MSA_38k and its marginals:"
   ]
  },
  {
   "cell_type": "markdown",
   "id": "7d4a9fad",
   "metadata": {},
   "source": [
    "We first compute 1- and 2-site marginals and correlations of the training set, and save the resulting `Correlations` object to file."
   ]
  },
  {
   "cell_type": "code",
   "execution_count": null,
   "id": "c66a1799",
   "metadata": {},
   "outputs": [],
   "source": [
    "model_name = \"PABP_38k\"\n",
    "MSA_location = MSA_data_folder + os.sep + model_name + \".a2m\"\n",
    "correlations_subfolder = correlations_location + os.sep + model_name + os.sep\n",
    "shell_run('mkdir -p ' + correlations_subfolder)\n",
    "file_name_label_to_seq_out = correlations_subfolder + model_name + \"_label_to_seq.npy\"\n",
    "file_name_weights_out = MSA_weights_location + os.sep + model_name + \".npy\"\n",
    "\n",
    "PABP_38k = Correlations(MSA_location = MSA_location, MFA = False,\n",
    "                        file_name_label_to_seq_out = file_name_label_to_seq_out,\n",
    "                        file_name_weights_out = file_name_weights_out\n",
    "                       )"
   ]
  },
  {
   "cell_type": "code",
   "execution_count": null,
   "id": "1b168d07",
   "metadata": {},
   "outputs": [],
   "source": [
    "PABP_38k.compute_all()\n",
    "save_instance_to_file(correlations_subfolder + model_name + \".Correlations\", PABP_38k)"
   ]
  },
  {
   "cell_type": "markdown",
   "id": "2c45c4fb",
   "metadata": {},
   "source": [
    "## Test MSA and its marginals:"
   ]
  },
  {
   "cell_type": "markdown",
   "id": "14998ed0",
   "metadata": {},
   "source": [
    "The test MSA is drawn from the file `PABP_245k.a2m` containing 245K sequences, as the 100K sequences with highest average Hamming distance with respect to the training MSA."
   ]
  },
  {
   "cell_type": "code",
   "execution_count": null,
   "id": "deef3be0",
   "metadata": {},
   "outputs": [],
   "source": [
    "model_name='PABP_245k'\n",
    "correlations_subfolder = correlations_location + os.sep + model_name + os.sep\n",
    "shell_run('mkdir -p ' + correlations_subfolder)\n",
    "\n",
    "MSA_location = MSA_data_folder + os.sep + model_name + \".a2m\"\n",
    "file_name_label_to_seq_out = correlations_subfolder + model_name + \"_label_to_seq.npy\"\n",
    "\n",
    "PABP_245k = Correlations(MSA_location = MSA_location, preprocess_MSA=True, advanced_preprocess_MSA=True,\n",
    "                          file_name_label_to_seq_out = file_name_label_to_seq_out, keep_cols=[8,89]\n",
    "                          )"
   ]
  },
  {
   "cell_type": "code",
   "execution_count": null,
   "id": "c8605100",
   "metadata": {},
   "outputs": [],
   "source": [
    "[PABP_38k.L, PABP_245k.L]"
   ]
  },
  {
   "cell_type": "code",
   "execution_count": null,
   "id": "780bc629",
   "metadata": {},
   "outputs": [],
   "source": [
    "initial_and_final_label_to_seq_focus(PABP_38k.label_to_seq)"
   ]
  },
  {
   "cell_type": "code",
   "execution_count": null,
   "id": "9d3aa6e5",
   "metadata": {},
   "outputs": [],
   "source": [
    "initial_and_final_label_to_seq_focus(PABP_245k.label_to_seq)"
   ]
  },
  {
   "cell_type": "code",
   "execution_count": null,
   "id": "398e3d57",
   "metadata": {},
   "outputs": [],
   "source": [
    "output_MSA_filename = MSA_data_folder + os.sep + \"PABP_38k_test_100k.a2m\"\n",
    "N_out = 100*1000 \n",
    "\n",
    "_, indices_candidates = find_furthest_sequences(label_to_seq_whole = PABP_245k.label_to_seq, \n",
    "                                              label_to_seq_subset = PABP_38k.label_to_seq, \n",
    "                                              output_MSA_filename = output_MSA_filename, \n",
    "                                              N_out = N_out)\n",
    "\n"
   ]
  },
  {
   "cell_type": "markdown",
   "id": "b89e9663",
   "metadata": {},
   "source": [
    "Let us quickly check the position of the drawn sequences in the 245k MSA:"
   ]
  },
  {
   "cell_type": "code",
   "execution_count": null,
   "id": "c1b465c8",
   "metadata": {},
   "outputs": [],
   "source": [
    "plot_histograms([indices_candidates])"
   ]
  },
  {
   "cell_type": "markdown",
   "id": "9df00283",
   "metadata": {},
   "source": [
    "We then compute the 1- and 2-site marginals and correlations of the training set as a reference."
   ]
  },
  {
   "cell_type": "code",
   "execution_count": null,
   "id": "53e4dc4d",
   "metadata": {},
   "outputs": [],
   "source": [
    "model_name = \"PABP_38k_test_100k\"\n",
    "MSA_location = MSA_data_folder + os.sep + model_name + \".a2m\"\n",
    "correlations_subfolder = correlations_location + os.sep + model_name + os.sep\n",
    "shell_run('mkdir -p ' + correlations_subfolder)\n",
    "file_name_label_to_seq_out = correlations_subfolder + model_name + \"_label_to_seq.npy\"\n",
    "file_name_weights_out = MSA_weights_location + os.sep + model_name + \".npy\"\n",
    "\n",
    "PABP_test = Correlations(MSA_location = MSA_location, MFA = False,\n",
    "                        file_name_label_to_seq_out = file_name_label_to_seq_out,\n",
    "                        file_name_weights_out = file_name_weights_out,\n",
    "                        advanced_preprocess_MSA = False\n",
    "                       )"
   ]
  },
  {
   "cell_type": "code",
   "execution_count": null,
   "id": "f0509914",
   "metadata": {},
   "outputs": [],
   "source": [
    "PABP_test.compute_all()\n",
    "save_instance_to_file( correlations_subfolder + model_name + \".Correlations\", PABP_test)"
   ]
  },
  {
   "cell_type": "markdown",
   "id": "5e2de250",
   "metadata": {},
   "source": [
    "## EVE's performance over training against training and test MSAs"
   ]
  },
  {
   "cell_type": "markdown",
   "id": "0426a544",
   "metadata": {},
   "source": [
    "We now sample a MSA of 10K sequences from EVE model checkpoints saved during training, and then visualise their performance in reproducing 1- and 2-site marginals of training and test sets."
   ]
  },
  {
   "cell_type": "code",
   "execution_count": null,
   "id": "13209b02",
   "metadata": {},
   "outputs": [],
   "source": [
    "ref_weights_file_name = \"PABP_38k\"\n",
    "ref_Correlations_name = \"PABP_38k\"\n",
    "ref_MSA_name = \"PABP_38k.a2m\"\n",
    "in_VAE_checkpoint_location = VAE_checkpoint_location + \"PABP_38k/PABP_38k\"\n",
    "out_Correlations_name = \"PABP_38k_VAE\"\n",
    "initial_epoch = 10 \n",
    "final_epoch = 1400\n",
    "\n",
    "\n",
    "generate_MSA_and_Correlations_from_EVE_models(ref_weights_file_name,\n",
    "                                            ref_Correlations_name,\n",
    "                                            ref_MSA_name,\n",
    "                                            in_VAE_checkpoint_location,\n",
    "                                            out_Correlations_name = out_Correlations_name,\n",
    "                                            initial_epoch = initial_epoch*1000,\n",
    "                                            final_epoch = final_epoch*1000,\n",
    "                                            step = 10*1000,\n",
    "                                            N_samples = 10000,\n",
    "                                            threshold = 0.3,\n",
    "                                            model_parameters_location='./EVE/default_model_params.json'\n",
    "                                        )"
   ]
  },
  {
   "cell_type": "code",
   "execution_count": null,
   "id": "c52013b7",
   "metadata": {},
   "outputs": [],
   "source": [
    "name_performance = \"PABP_38k_training\"\n",
    "ref_Correlations_name = \"PABP_38k\"\n",
    "labels = ['f1', 'f2', 'CM2', 'MI']\n",
    "\n",
    "compute_performance_EVE_models_vs_ref(name_performance,\n",
    "                                        ref_Correlations_name = ref_Correlations_name,\n",
    "                                        EVE_Correlations_name = out_Correlations_name,\n",
    "                                        labels = labels, \n",
    "                                        input_results_location = None, \n",
    "                                        initial_epoch = initial_epoch*1000,\n",
    "                                        final_epoch = final_epoch*1000,\n",
    "                                        step = 10*1000\n",
    "                                       )"
   ]
  },
  {
   "cell_type": "code",
   "execution_count": null,
   "id": "ad7ce4fb",
   "metadata": {},
   "outputs": [],
   "source": [
    "name_performance = \"PABP_38k_test\"\n",
    "ref_Correlations_name = \"PABP_38k_test_100k\"\n",
    "labels = ['f1', 'f2', 'CM2', 'MI']\n",
    "\n",
    "compute_performance_EVE_models_vs_ref(name_performance,\n",
    "                                        ref_Correlations_name = ref_Correlations_name,\n",
    "                                        EVE_Correlations_name = out_Correlations_name,\n",
    "                                        labels = labels, \n",
    "                                        input_results_location = None, \n",
    "                                        initial_epoch = initial_epoch*1000,\n",
    "                                        final_epoch = final_epoch*1000,\n",
    "                                        step = 10*1000\n",
    "                                       )"
   ]
  },
  {
   "cell_type": "code",
   "execution_count": null,
   "id": "57be4327",
   "metadata": {},
   "outputs": [],
   "source": [
    "file_name_1 = './results/correlations/_performances/PABP_38k_training.npy'\n",
    "file_name_2 = './results/correlations/_performances/PABP_38k_test.npy'\n",
    "\n",
    "visualise_performance_train_test_1column(file_name_1, file_name_2, reduced_index = ['f1', 'f2', 'CM2'], \n",
    "                                        filename_out = './results/plots_performance/PABP_38k_EVE.pdf',\n",
    "                                        title = 'EVE_38K')\n"
   ]
  },
  {
   "cell_type": "code",
   "execution_count": null,
   "id": "5898dbc7",
   "metadata": {},
   "outputs": [],
   "source": []
  }
 ],
 "metadata": {
  "kernelspec": {
   "display_name": "Python 3 (ipykernel)",
   "language": "python",
   "name": "python3"
  },
  "language_info": {
   "codemirror_mode": {
    "name": "ipython",
    "version": 3
   },
   "file_extension": ".py",
   "mimetype": "text/x-python",
   "name": "python",
   "nbconvert_exporter": "python",
   "pygments_lexer": "ipython3",
   "version": "3.7.16"
  }
 },
 "nbformat": 4,
 "nbformat_minor": 5
}

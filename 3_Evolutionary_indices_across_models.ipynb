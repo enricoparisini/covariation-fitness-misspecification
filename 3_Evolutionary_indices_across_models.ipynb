{
 "cells": [
  {
   "cell_type": "code",
   "execution_count": 1,
   "id": "c3f7b962",
   "metadata": {},
   "outputs": [],
   "source": [
    "from two_site_model import *\n",
    "from utils.evol_indices_manipulation import *\n",
    "\n",
    "%load_ext autoreload\n",
    "%autoreload 2\n",
    "\n",
    "np.set_printoptions(precision=4, suppress=True)\n",
    "pd.set_option(\"display.precision\", 3)\n",
    "\n",
    "MSA_data_folder='./data/MSA'\n",
    "MSA_weights_location='./data/weights'\n",
    "VAE_checkpoint_location='./results/VAE_parameters/'\n",
    "correlations_location='./results/correlations'\n",
    "mutations_location='./data/mutations'\n",
    "evol_indices_location = \"./results/evol_indices\"\n",
    "comparisons_location = \"./results/correlations/_comparisons\""
   ]
  },
  {
   "cell_type": "markdown",
   "id": "517354ac",
   "metadata": {},
   "source": [
    "In this notebook we show how to compute the evolutionary indices of 2-site and EVE models for single-mutants, and compare them with validation scores from [this deep mutational scan](https://www.ncbi.nlm.nih.gov/pmc/articles/PMC3851721/)."
   ]
  },
  {
   "cell_type": "markdown",
   "id": "f9b79000",
   "metadata": {},
   "source": [
    "## Conversion of Mi3 couplings to our gauge:"
   ]
  },
  {
   "cell_type": "markdown",
   "id": "76bb43bb",
   "metadata": {},
   "source": [
    "We first translate the 2-site couplings resulting from Mi3 training to our conventions by loading them to an instance of Two_site_model:"
   ]
  },
  {
   "cell_type": "code",
   "execution_count": 3,
   "id": "08fae7ce",
   "metadata": {},
   "outputs": [
    {
     "name": "stdout",
     "output_type": "stream",
     "text": [
      "Object successfully saved to \"./results/correlations/PABP_38k/PABP_38k_Mi3_60.Two_site_model\"\n"
     ]
    }
   ],
   "source": [
    "Mi3_60 = Two_site_model(correlations_instance_location = correlations_location + os.sep + \n",
    "                     \"PABP_38k/PABP_38k.Correlations\",\n",
    "                    E_couplings_location = \"./data/Mi3_couplings/38k_run60/J.npy\")\n",
    "\n",
    "save_instance_to_file(correlations_location + os.sep + \n",
    "                     \"PABP_38k/PABP_38k_Mi3_60.Two_site_model\", Mi3_60)"
   ]
  },
  {
   "cell_type": "markdown",
   "id": "5e311ec8",
   "metadata": {},
   "source": [
    "## Loading validation scores:"
   ]
  },
  {
   "cell_type": "code",
   "execution_count": 4,
   "id": "21bfbb2a",
   "metadata": {},
   "outputs": [],
   "source": [
    "validation_df = pd.read_csv(\"./data/validation/PABP_YEAST_Fields2013-singles.csv\", sep=';', comment='#').rename(\n",
    "    columns={'mutant': 'mutations',\n",
    "             'effect_prediction_epistatic': 'EVMutation', \n",
    "             'effect_prediction_independent': 'independent',\n",
    "            'linear': 'experiment_linear'})"
   ]
  },
  {
   "cell_type": "markdown",
   "id": "aa73e20e",
   "metadata": {},
   "source": [
    "## Comparing EVE and Mi3 models:"
   ]
  },
  {
   "cell_type": "markdown",
   "id": "ceaeef0a",
   "metadata": {},
   "source": [
    "After computing the single-mutant evolutionary indices for the trained EVE models using `compute_evol_indices.py`, we can compare them with the validation set and with those generated with Mi3 models:"
   ]
  },
  {
   "cell_type": "code",
   "execution_count": 5,
   "id": "4d738dac",
   "metadata": {},
   "outputs": [],
   "source": [
    "list_EVE_models = [[\"EVE_400\", evol_indices_location + os.sep + \"EVE_400\" + \".csv\"],\n",
    "                   [\"EVE_1400\", evol_indices_location + os.sep + \"EVE_1400\" + \".csv\"],\n",
    "                   [\"EVE_NoBayes_200\", evol_indices_location + os.sep + \"EVE_NoBayes_200\" + \".csv\"]\n",
    "                  ]\n",
    "\n",
    "list_Mi3_models = [['Mi3_60', correlations_location + os.sep + \"PABP_38k/PABP_38k_Mi3_60.Two_site_model\"]]\n",
    "\n",
    "offset = 123\n",
    "\n",
    "list_mutations_location = mutations_location + os.sep + \"PABP_all_singles\" + \".csv\"\n",
    "\n",
    "out_file_location = comparisons_location + os.sep + \"evol_indice_allmodels_38k.csv\"\n"
   ]
  },
  {
   "cell_type": "code",
   "execution_count": 6,
   "id": "5125bacd",
   "metadata": {},
   "outputs": [
    {
     "data": {
      "text/html": [
       "<div>\n",
       "<style scoped>\n",
       "    .dataframe tbody tr th:only-of-type {\n",
       "        vertical-align: middle;\n",
       "    }\n",
       "\n",
       "    .dataframe tbody tr th {\n",
       "        vertical-align: top;\n",
       "    }\n",
       "\n",
       "    .dataframe thead th {\n",
       "        text-align: right;\n",
       "    }\n",
       "</style>\n",
       "<table border=\"1\" class=\"dataframe\">\n",
       "  <thead>\n",
       "    <tr style=\"text-align: right;\">\n",
       "      <th></th>\n",
       "      <th>independent</th>\n",
       "      <th>EVMutation</th>\n",
       "      <th>EVE_400</th>\n",
       "      <th>EVE_1400</th>\n",
       "      <th>EVE_NoBayes_200</th>\n",
       "      <th>Mi3_60</th>\n",
       "    </tr>\n",
       "  </thead>\n",
       "  <tbody>\n",
       "    <tr>\n",
       "      <th>0</th>\n",
       "      <td>0.424</td>\n",
       "      <td>0.593</td>\n",
       "      <td>0.572</td>\n",
       "      <td>0.603</td>\n",
       "      <td>0.605</td>\n",
       "      <td>0.594</td>\n",
       "    </tr>\n",
       "  </tbody>\n",
       "</table>\n",
       "</div>"
      ],
      "text/plain": [
       "   independent  EVMutation  EVE_400  EVE_1400  EVE_NoBayes_200  Mi3_60\n",
       "0        0.424       0.593    0.572     0.603            0.605   0.594"
      ]
     },
     "execution_count": 6,
     "metadata": {},
     "output_type": "execute_result"
    }
   ],
   "source": [
    "final_df = df_evol_indices_Spearman(validation_df, list_EVE_models, list_Mi3_models, \n",
    "                                     offset, list_mutations_location, out_file_location)\n",
    "final_df"
   ]
  },
  {
   "cell_type": "code",
   "execution_count": null,
   "id": "c5d991d4",
   "metadata": {},
   "outputs": [],
   "source": []
  }
 ],
 "metadata": {
  "kernelspec": {
   "display_name": "Python 3 (ipykernel)",
   "language": "python",
   "name": "python3"
  },
  "language_info": {
   "codemirror_mode": {
    "name": "ipython",
    "version": 3
   },
   "file_extension": ".py",
   "mimetype": "text/x-python",
   "name": "python",
   "nbconvert_exporter": "python",
   "pygments_lexer": "ipython3",
   "version": "3.7.16"
  }
 },
 "nbformat": 4,
 "nbformat_minor": 5
}
